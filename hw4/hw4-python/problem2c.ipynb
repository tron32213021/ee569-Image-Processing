{
 "cells": [
  {
   "cell_type": "code",
   "execution_count": 1,
   "metadata": {},
   "outputs": [],
   "source": [
    "import numpy as np\n",
    "import cv2\n",
    "import myUtil as utils\n",
    "import matplotlib.pyplot as plt\n",
    "import matplotlib.image as mpimg\n",
    "from sklearn.cluster import KMeans\n",
    "from scipy import misc"
   ]
  },
  {
   "cell_type": "code",
   "execution_count": 2,
   "metadata": {},
   "outputs": [],
   "source": [
    "zeros=[]\n",
    "ones=[]\n",
    "eight=cv2.resize(utils.readRaw(\"HW4_Images/eight.raw\",28,28).astype('uint8'),(56,56))\n",
    "for i in range(5):\n",
    "    zeros.append(cv2.resize(utils.readRaw(\"HW4_Images/zero_\"+str(i+1)+\".raw\",28,28).astype('uint8'),(56,56)))\n",
    "    ones.append(cv2.resize(utils.readRaw(\"HW4_Images/one_\"+str(i+1)+\".raw\",28,28).astype('uint8'),(56,56)))\n"
   ]
  },
  {
   "cell_type": "code",
   "execution_count": 3,
   "metadata": {},
   "outputs": [
    {
     "name": "stdout",
     "output_type": "stream",
     "text": [
      "(15, 128) 15\n"
     ]
    },
    {
     "data": {
      "image/png": "[encoded data removed]",
      "text/plain": [
       "<Figure size 432x288 with 1 Axes>"
      ]
     },
     "metadata": {
      "needs_background": "light"
     },
     "output_type": "display_data"
    }
   ],
   "source": [
    "sift=cv2.xfeatures2d.SIFT_create()\n",
    "kps_eight,des_eight=sift.detectAndCompute(eight,None)\n",
    "img=cv2.drawKeypoints(eight,kps_eight,None)\n",
    "plt.imshow(eight,cmap='gray')\n",
    "print(des_eight.shape,len(kps_eight))"
   ]
  },
  {
   "cell_type": "code",
   "execution_count": 4,
   "metadata": {},
   "outputs": [
    {
     "name": "stdout",
     "output_type": "stream",
     "text": [
      "(119, 128) (54, 128) (65, 128)\n"
     ]
    }
   ],
   "source": [
    "des_set=np.zeros((0,128))\n",
    "des_0=np.zeros((0,128))\n",
    "des_1=np.zeros((0,128))\n",
    "for i in range(5):\n",
    "    kps,des=sift.detectAndCompute(zeros[i],None)\n",
    "    des_set=np.concatenate((des_set,des),axis=0)\n",
    "    des_0=np.concatenate((des_0,des),axis=0)\n",
    "    \n",
    "    kps,des=sift.detectAndCompute(ones[i],None)\n",
    "    des_set=np.concatenate((des_set,des),axis=0)\n",
    "    des_1=np.concatenate((des_1,des),axis=0)\n",
    "print(des_set.shape,des_0.shape,des_1.shape)"
   ]
  },
  {
   "cell_type": "code",
   "execution_count": 8,
   "metadata": {},
   "outputs": [
    {
     "name": "stdout",
     "output_type": "stream",
     "text": [
      "[0.37037037 0.62962963]\n",
      "[0.52307692 0.47692308]\n"
     ]
    }
   ],
   "source": [
    "kmeans=KMeans(n_clusters=2)\n",
    "kmeans.fit(des_set)\n",
    "pre_0=kmeans.predict(des_0)\n",
    "pre_1=kmeans.predict(des_1)\n",
    "bins_0=np.bincount(pre_0)\n",
    "bins_1=np.bincount(pre_1)\n",
    "bins_0=bins_0/np.sum(bins_0)\n",
    "bins_1=bins_1/np.sum(bins_1)\n",
    "print(bins_0)\n",
    "print(bins_1)\n"
   ]
  },
  {
   "cell_type": "code",
   "execution_count": 9,
   "metadata": {},
   "outputs": [
    {
     "name": "stdout",
     "output_type": "stream",
     "text": [
      "[0.26666667 0.73333333]\n"
     ]
    }
   ],
   "source": [
    "pre_8=kmeans.predict(des_eight)\n",
    "bins_8=np.bincount(pre_8)\n",
    "bins_8=bins_8/np.sum(bins_8)\n",
    "print(bins_8)"
   ]
  },
  {
   "cell_type": "code",
   "execution_count": 10,
   "metadata": {},
   "outputs": [
    {
     "data": {
      "text/plain": [
       "(<Figure size 432x288 with 1 Axes>, <BarContainer object of 2 artists>)"
      ]
     },
     "execution_count": 10,
     "metadata": {},
     "output_type": "execute_result"
    },
    {
     "data": {
      "image/png": "[encoded data removed]",
      "text/plain": [
       "<Figure size 432x288 with 1 Axes>"
      ]
     },
     "metadata": {
      "needs_background": "light"
     },
     "output_type": "display_data"
    },
    {
     "data": {
      "image/png": "[encoded data removed]",
      "text/plain": [
       "<Figure size 432x288 with 1 Axes>"
      ]
     },
     "metadata": {
      "needs_background": "light"
     },
     "output_type": "display_data"
    },
    {
     "data": {
      "image/png": "[encoded data removed]",
      "text/plain": [
       "<Figure size 432x288 with 1 Axes>"
      ]
     },
     "metadata": {
      "needs_background": "light"
     },
     "output_type": "display_data"
    }
   ],
   "source": [
    "plt.figure(),plt.bar(x=[0,1],height=bins_0,width=0.5)\n",
    "plt.figure(),plt.bar(x=[0,1],height=bins_1,width=0.5)\n",
    "plt.figure(),plt.bar(x=[0,1],height=bins_8,width=0.5)"
   ]
  },
  {
   "cell_type": "code",
   "execution_count": 11,
   "metadata": {},
   "outputs": [],
   "source": [
    "def matching(bin_test,bin_train):\n",
    "    d=len(bin_train)\n",
    "    s=0\n",
    "    for i in range(d):\n",
    "        r=min(bin_test[i],bin_train[i])/max(bin_test[i],bin_train[i])\n",
    "        s+=r\n",
    "    return s"
   ]
  },
  {
   "cell_type": "code",
   "execution_count": 12,
   "metadata": {},
   "outputs": [
    {
     "name": "stdout",
     "output_type": "stream",
     "text": [
      "1.5785858585858588 1.1601535719182778\n"
     ]
    }
   ],
   "source": [
    "match_8_0=matching(bins_8,bins_0)\n",
    "match_8_1=matching(bins_8,bins_1)\n",
    "print(match_8_0,match_8_1)"
   ]
  },
  {
   "cell_type": "code",
   "execution_count": null,
   "metadata": {},
   "outputs": [],
   "source": []
  }
 ],
 "metadata": {
  "kernelspec": {
   "display_name": "Python 3",
   "language": "python",
   "name": "python3"
  },
  "language_info": {
   "codemirror_mode": {
    "name": "ipython",
    "version": 3
   },
   "file_extension": ".py",
   "mimetype": "text/x-python",
   "name": "python",
   "nbconvert_exporter": "python",
   "pygments_lexer": "ipython3",
   "version": "3.7.3"
  }
 },
 "nbformat": 4,
 "nbformat_minor": 2
}
