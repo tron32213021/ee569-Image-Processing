{
 "cells": [
  {
   "cell_type": "code",
   "execution_count": 1,
   "metadata": {},
   "outputs": [
    {
     "name": "stderr",
     "output_type": "stream",
     "text": [
      "Using TensorFlow backend.\n",
      "/home/ubuntu/anaconda3/envs/tensorflow_p36/lib/python3.6/site-packages/matplotlib/font_manager.py:278: UserWarning: Matplotlib is building the font cache using fc-list. This may take a moment.\n",
      "  'Matplotlib is building the font cache using fc-list. '\n"
     ]
    }
   ],
   "source": [
    "import numpy as np\n",
    "import keras\n",
    "import matplotlib.pyplot as plt\n",
    "import struct"
   ]
  },
  {
   "cell_type": "code",
   "execution_count": 2,
   "metadata": {},
   "outputs": [],
   "source": [
    "train_data_fileName=\"train-images.idx3-ubyte\"\n",
    "train_label_fileName=\"train-labels.idx1-ubyte\"\n",
    "test_data_fileName=\"t10k-images.idx3-ubyte\"\n",
    "test_label_fileName=\"t10k-labels.idx1-ubyte\""
   ]
  },
  {
   "cell_type": "code",
   "execution_count": 3,
   "metadata": {},
   "outputs": [],
   "source": [
    "def readData(fileName):\n",
    "    with open(fileName,'rb') as obj:\n",
    "        data=obj.read(16)\n",
    "        magic,N,n_row,n_col=struct.unpack('!4i',data)\n",
    "        images=np.zeros((N,n_row,n_col))\n",
    "        for i in range(N):\n",
    "            data=obj.read(n_row*n_col)\n",
    "            images[i]=np.array(struct.unpack('!'+str(n_row*n_col)+'B',data)).reshape((n_row,n_col))\n",
    "    return images\n",
    "def readLabels(fileName):\n",
    "    with open(fileName,'rb') as obj:\n",
    "        data=obj.read(8)\n",
    "        magic,N=struct.unpack('!2i',data)\n",
    "        data=obj.read(N)\n",
    "        labels=np.array(struct.unpack('!'+str(N)+'B',data))\n",
    "    return labels"
   ]
  },
  {
   "cell_type": "code",
   "execution_count": 4,
   "metadata": {},
   "outputs": [],
   "source": [
    "train_data=readData(train_data_fileName)\n",
    "N,n_row,n_col=train_data.shape\n",
    "train_data=train_data.reshape((N,n_row,n_col,1))\n",
    "train_labels=np.eye(10)[readLabels(train_label_fileName)]\n",
    "\n",
    "test_data=readData(test_data_fileName)\n",
    "N,n_row,n_col=test_data.shape\n",
    "test_data=test_data.reshape((N,n_row,n_col,1))\n",
    "test_labels=np.eye(10)[readLabels(test_label_fileName)]\n"
   ]
  },
  {
   "cell_type": "code",
   "execution_count": 53,
   "metadata": {},
   "outputs": [],
   "source": [
    "def Model(input_size=(28,28,1)):\n",
    "    X_Input=keras.layers.Input(input_size)\n",
    "    X=keras.layers.Conv2D(6,kernel_size=(5,5),strides=(1,1),activation='relu',name='conv_1',padding='same',kernel_initializer='random_uniform')(X_Input)\n",
    "    X=keras.layers.MaxPool2D(pool_size=(2,2),strides=(2,2),name='pool_2')(X)\n",
    "    X=keras.layers.Conv2D(16,kernel_size=(5,5),strides=(1,1),activation='relu',name='conv_3',kernel_initializer='random_uniform')(X)\n",
    "    X=keras.layers.MaxPool2D(pool_size=(2,2),strides=(2,2),name='pool_4')(X)\n",
    "    X=keras.layers.Flatten(name='flat_5')(X)\n",
    "    X=keras.layers.Dense(120,activation='relu',name='fc_6',kernel_initializer='random_uniform')(X)\n",
    "    X=keras.layers.Dense(84,activation='relu',name='fc_7',kernel_initializer='random_uniform')(X)\n",
    "    X=keras.layers.Dense(10,activation='softmax',name='output_8',kernel_initializer='random_uniform')(X)\n",
    "    model=keras.models.Model(inputs=X_Input,outputs=X,name='myModel')\n",
    "    return model\n",
    "   "
   ]
  },
  {
   "cell_type": "code",
   "execution_count": 80,
   "metadata": {},
   "outputs": [],
   "source": [
    "model=Model()\n",
    "model.compile(metrics=['accuracy'],optimizer='sgd',loss='categorical_crossentropy')"
   ]
  },
  {
   "cell_type": "code",
   "execution_count": 81,
   "metadata": {},
   "outputs": [
    {
     "name": "stdout",
     "output_type": "stream",
     "text": [
      "Train on 60000 samples, validate on 10000 samples\n",
      "Epoch 1/10\n",
      "60000/60000 [==============================] - 5s 80us/step - loss: 0.4018 - acc: 0.8724 - val_loss: 0.1203 - val_acc: 0.9621\n",
      "\n",
      "Epoch 00001: saving model to mnist_sgd.h5\n",
      "Epoch 2/10\n",
      "60000/60000 [==============================] - 3s 53us/step - loss: 0.0964 - acc: 0.9694 - val_loss: 0.0818 - val_acc: 0.9754\n",
      "\n",
      "Epoch 00002: saving model to mnist_sgd.h5\n",
      "Epoch 3/10\n",
      "60000/60000 [==============================] - 3s 53us/step - loss: 0.0690 - acc: 0.9785 - val_loss: 0.0604 - val_acc: 0.9810\n",
      "\n",
      "Epoch 00003: saving model to mnist_sgd.h5\n",
      "Epoch 4/10\n",
      "60000/60000 [==============================] - 3s 53us/step - loss: 0.0547 - acc: 0.9827 - val_loss: 0.0687 - val_acc: 0.9777\n",
      "\n",
      "Epoch 00004: saving model to mnist_sgd.h5\n",
      "Epoch 5/10\n",
      "60000/60000 [==============================] - 3s 54us/step - loss: 0.0470 - acc: 0.9849 - val_loss: 0.0515 - val_acc: 0.9830\n",
      "\n",
      "Epoch 00005: saving model to mnist_sgd.h5\n",
      "Epoch 6/10\n",
      "60000/60000 [==============================] - 3s 55us/step - loss: 0.0392 - acc: 0.9880 - val_loss: 0.0417 - val_acc: 0.9859\n",
      "\n",
      "Epoch 00006: saving model to mnist_sgd.h5\n",
      "Epoch 7/10\n",
      "60000/60000 [==============================] - 3s 54us/step - loss: 0.0338 - acc: 0.9890 - val_loss: 0.0386 - val_acc: 0.9879\n",
      "\n",
      "Epoch 00007: saving model to mnist_sgd.h5\n",
      "Epoch 8/10\n",
      "60000/60000 [==============================] - 3s 53us/step - loss: 0.0297 - acc: 0.9906 - val_loss: 0.0482 - val_acc: 0.9851\n",
      "\n",
      "Epoch 00008: saving model to mnist_sgd.h5\n",
      "Epoch 9/10\n",
      "60000/60000 [==============================] - 3s 53us/step - loss: 0.0265 - acc: 0.9913 - val_loss: 0.0534 - val_acc: 0.9830\n",
      "\n",
      "Epoch 00009: saving model to mnist_sgd.h5\n",
      "Epoch 10/10\n",
      "60000/60000 [==============================] - 3s 53us/step - loss: 0.0238 - acc: 0.9924 - val_loss: 0.0423 - val_acc: 0.9862\n",
      "\n",
      "Epoch 00010: saving model to mnist_sgd.h5\n"
     ]
    }
   ],
   "source": [
    "checkpoint_best = keras.callbacks.ModelCheckpoint(\"mnist_sgd.h5\", monitor='val_acc',verbose=1,save_best_only=False)\n",
    "\n",
    "hist=model.fit(train_data,train_labels,\n",
    "         batch_size=128,\n",
    "         epochs=10,\n",
    "         shuffle=True,\n",
    "         validation_data=(test_data,test_labels),\n",
    "         callbacks=[checkpoint_best])\n"
   ]
  },
  {
   "cell_type": "code",
   "execution_count": 67,
   "metadata": {},
   "outputs": [
    {
     "name": "stdout",
     "output_type": "stream",
     "text": [
      "{'val_loss': [0.07795129197500646, 0.04765106523782015, 0.04806212450303137, 0.04508610233180225, 0.0424912239741534, 0.034911226649861786, 0.040264245296875015, 0.04722756129315312, 0.038046044643456116, 0.04749801207685377], 'val_acc': [0.9741, 0.9854, 0.9848, 0.9862, 0.9864, 0.9882, 0.9871, 0.9867, 0.9886, 0.9875], 'loss': [0.2132067693968614, 0.06258009854356447, 0.046084610040485856, 0.0370858515838782, 0.03182641693154971, 0.028507591164360444, 0.023365556684012214, 0.020272714842204005, 0.019634612095169722, 0.017574439414512987], 'acc': [0.9324666666984558, 0.9804000000317892, 0.9859499999682109, 0.9886, 0.9899166666666667, 0.9908333333333333, 0.99285, 0.9935, 0.9937499999682109, 0.9941166666666666]}\n"
     ]
    }
   ],
   "source": [
    "print(hist.history)"
   ]
  },
  {
   "cell_type": "code",
   "execution_count": null,
   "metadata": {},
   "outputs": [],
   "source": []
  }
 ],
 "metadata": {
  "kernelspec": {
   "display_name": "Python 3",
   "language": "python",
   "name": "python3"
  },
  "language_info": {
   "codemirror_mode": {
    "name": "ipython",
    "version": 3
   },
   "file_extension": ".py",
   "mimetype": "text/x-python",
   "name": "python",
   "nbconvert_exporter": "python",
   "pygments_lexer": "ipython3",
   "version": "3.6.5"
  }
 },
 "nbformat": 4,
 "nbformat_minor": 2
}
